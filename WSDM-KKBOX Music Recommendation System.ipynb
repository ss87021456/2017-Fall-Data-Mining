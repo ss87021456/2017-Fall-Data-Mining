{
 "cells": [
  {
   "cell_type": "markdown",
   "metadata": {},
   "source": [
    "### WSDM-KKBOX Music Recommendation System"
   ]
  },
  {
   "cell_type": "code",
   "execution_count": 1,
   "metadata": {},
   "outputs": [],
   "source": [
    "import numpy as np\n",
    "import pandas as pd\n",
    "import lightgbm as lgb\n",
    "import datetime\n",
    "import math\n",
    "import seaborn as sns\n",
    "import matplotlib.pyplot as plt\n",
    "import gc\n",
    "from sklearn import metrics\n",
    "%matplotlib inline"
   ]
  },
  {
   "cell_type": "markdown",
   "metadata": {},
   "source": [
    "## Load data"
   ]
  },
  {
   "cell_type": "code",
   "execution_count": 2,
   "metadata": {
    "scrolled": true
   },
   "outputs": [],
   "source": [
    "df_train = pd.read_csv('../input/1208_train_add_popular.csv')\n",
    "df_test = pd.read_csv('../input/1208_test_add_popular.csv')"
   ]
  },
  {
   "cell_type": "code",
   "execution_count": 3,
   "metadata": {
    "scrolled": true
   },
   "outputs": [],
   "source": [
    "age_bin = pd.read_csv('../input/members_quant_age.csv')\n",
    "temp = age_bin[['msno','quant_age']]\n",
    "df_train = df_train.merge(temp, on='msno', how='left')\n",
    "df_test = df_test.merge(temp, on='msno', how='left')"
   ]
  },
  {
   "cell_type": "code",
   "execution_count": 4,
   "metadata": {},
   "outputs": [],
   "source": [
    "member_svd = pd.read_csv('./member_svd.csv')\n",
    "song_svd = pd.read_csv('./song_svd.csv')"
   ]
  },
  {
   "cell_type": "code",
   "execution_count": 5,
   "metadata": {
    "scrolled": true
   },
   "outputs": [],
   "source": [
    "df_train = df_train.merge(member_svd, on='msno', how='left')\n",
    "df_test = df_test.merge(member_svd, on='msno', how='left')\n",
    "df_train = df_train.merge(song_svd, on='song_id', how='left')\n",
    "df_test = df_test.merge(song_svd, on='song_id', how='left')"
   ]
  },
  {
   "cell_type": "code",
   "execution_count": 6,
   "metadata": {},
   "outputs": [],
   "source": [
    "n_component = 48\n",
    "\n",
    "song_list = ['song_component_%d'%i for i in range(n_component)]\n",
    "member_list = ['member_component_%d'%i for i in range(n_component)]"
   ]
  },
  {
   "cell_type": "code",
   "execution_count": 7,
   "metadata": {},
   "outputs": [],
   "source": [
    "for col in df_train.columns:\n",
    "    try:\n",
    "        if col in song_list:\n",
    "            df_train[col] = df_train[col].astype(np.float16)\n",
    "            df_test[col] = df_test[col].astype(np.float16)\n",
    "    except:\n",
    "        print col,'error!'"
   ]
  },
  {
   "cell_type": "code",
   "execution_count": 8,
   "metadata": {},
   "outputs": [],
   "source": [
    "for col in df_train.columns:\n",
    "    try:\n",
    "        if col in member_list:\n",
    "            df_train[col] = df_train[col].astype(np.float16)\n",
    "            df_test[col] = df_test[col].astype(np.float16)\n",
    "    except:\n",
    "        print col,'error!'"
   ]
  },
  {
   "cell_type": "code",
   "execution_count": 9,
   "metadata": {},
   "outputs": [
    {
     "name": "stdout",
     "output_type": "stream",
     "text": [
      "<class 'pandas.core.frame.DataFrame'>\n",
      "Int64Index: 7377418 entries, 0 to 7377417\n",
      "Columns: 143 entries, Unnamed: 0 to song_component_47\n",
      "dtypes: bool(1), float16(96), float64(3), int64(32), object(11)\n",
      "memory usage: 3.9+ GB\n"
     ]
    }
   ],
   "source": [
    "df_train.info()"
   ]
  },
  {
   "cell_type": "code",
   "execution_count": 10,
   "metadata": {},
   "outputs": [],
   "source": [
    "artist_prob = pd.read_csv('../input/artist_prob.csv')\n",
    "artist_prob = artist_prob[artist_prob['one']+artist_prob['zero'] > 20]\n",
    "art_probability = artist_prob[['artist_name','prob']]\n",
    "art_probability = art_probability[art_probability['prob'] > 0.5]"
   ]
  },
  {
   "cell_type": "code",
   "execution_count": 11,
   "metadata": {
    "scrolled": true
   },
   "outputs": [
    {
     "data": {
      "text/html": [
       "<div>\n",
       "<table border=\"1\" class=\"dataframe\">\n",
       "  <thead>\n",
       "    <tr style=\"text-align: right;\">\n",
       "      <th></th>\n",
       "      <th>artist_name</th>\n",
       "      <th>prob</th>\n",
       "    </tr>\n",
       "  </thead>\n",
       "  <tbody>\n",
       "    <tr>\n",
       "      <th>1</th>\n",
       "      <td>Various Artists</td>\n",
       "      <td>0.509710</td>\n",
       "    </tr>\n",
       "    <tr>\n",
       "      <th>6</th>\n",
       "      <td>BIGBANG TAEYANG</td>\n",
       "      <td>0.590254</td>\n",
       "    </tr>\n",
       "    <tr>\n",
       "      <th>8</th>\n",
       "      <td>OneRepublic</td>\n",
       "      <td>0.527190</td>\n",
       "    </tr>\n",
       "    <tr>\n",
       "      <th>9</th>\n",
       "      <td>Lindsey Stirling</td>\n",
       "      <td>0.542553</td>\n",
       "    </tr>\n",
       "    <tr>\n",
       "      <th>10</th>\n",
       "      <td>嚴爵 (Yen-j)</td>\n",
       "      <td>0.505250</td>\n",
       "    </tr>\n",
       "    <tr>\n",
       "      <th>11</th>\n",
       "      <td>林俊傑 (JJ Lin)</td>\n",
       "      <td>0.586352</td>\n",
       "    </tr>\n",
       "    <tr>\n",
       "      <th>12</th>\n",
       "      <td>周杰倫 (Jay Chou)</td>\n",
       "      <td>0.600864</td>\n",
       "    </tr>\n",
       "    <tr>\n",
       "      <th>13</th>\n",
       "      <td>吳汶芳 (Fang Wu)</td>\n",
       "      <td>0.530609</td>\n",
       "    </tr>\n",
       "    <tr>\n",
       "      <th>14</th>\n",
       "      <td>aMEI (張惠妹)</td>\n",
       "      <td>0.501190</td>\n",
       "    </tr>\n",
       "    <tr>\n",
       "      <th>18</th>\n",
       "      <td>五月天 (Mayday)</td>\n",
       "      <td>0.554825</td>\n",
       "    </tr>\n",
       "    <tr>\n",
       "      <th>22</th>\n",
       "      <td>Justin Bieber</td>\n",
       "      <td>0.583689</td>\n",
       "    </tr>\n",
       "    <tr>\n",
       "      <th>24</th>\n",
       "      <td>韋禮安 (William Wei)</td>\n",
       "      <td>0.539437</td>\n",
       "    </tr>\n",
       "    <tr>\n",
       "      <th>25</th>\n",
       "      <td>蛋堡 (Soft Lipa)</td>\n",
       "      <td>0.511712</td>\n",
       "    </tr>\n",
       "    <tr>\n",
       "      <th>26</th>\n",
       "      <td>楊丞琳 (Rainie Yang)</td>\n",
       "      <td>0.556688</td>\n",
       "    </tr>\n",
       "    <tr>\n",
       "      <th>27</th>\n",
       "      <td>James Arthur</td>\n",
       "      <td>0.541339</td>\n",
       "    </tr>\n",
       "    <tr>\n",
       "      <th>31</th>\n",
       "      <td>朱俐靜 (Miu Chu)</td>\n",
       "      <td>0.503749</td>\n",
       "    </tr>\n",
       "    <tr>\n",
       "      <th>34</th>\n",
       "      <td>薛之謙</td>\n",
       "      <td>0.681267</td>\n",
       "    </tr>\n",
       "    <tr>\n",
       "      <th>36</th>\n",
       "      <td>莊心妍</td>\n",
       "      <td>0.623732</td>\n",
       "    </tr>\n",
       "    <tr>\n",
       "      <th>37</th>\n",
       "      <td>G.E.M.鄧紫棋</td>\n",
       "      <td>0.615534</td>\n",
       "    </tr>\n",
       "    <tr>\n",
       "      <th>38</th>\n",
       "      <td>魏如萱 (Waa Wei)</td>\n",
       "      <td>0.500030</td>\n",
       "    </tr>\n",
       "    <tr>\n",
       "      <th>39</th>\n",
       "      <td>周湯豪 (NICKTHEREAL)</td>\n",
       "      <td>0.665193</td>\n",
       "    </tr>\n",
       "    <tr>\n",
       "      <th>40</th>\n",
       "      <td>兄弟本色G.U.T.S. (姚中仁、張震嶽、頑童MJ116)</td>\n",
       "      <td>0.668516</td>\n",
       "    </tr>\n",
       "    <tr>\n",
       "      <th>41</th>\n",
       "      <td>謝和弦 (R-chord)</td>\n",
       "      <td>0.638552</td>\n",
       "    </tr>\n",
       "    <tr>\n",
       "      <th>42</th>\n",
       "      <td>EXO</td>\n",
       "      <td>0.550046</td>\n",
       "    </tr>\n",
       "    <tr>\n",
       "      <th>43</th>\n",
       "      <td>孫盛希 (Shi Shi)</td>\n",
       "      <td>0.587278</td>\n",
       "    </tr>\n",
       "    <tr>\n",
       "      <th>45</th>\n",
       "      <td>陳曉東 (Daniel Chan)</td>\n",
       "      <td>0.515094</td>\n",
       "    </tr>\n",
       "    <tr>\n",
       "      <th>51</th>\n",
       "      <td>玖壹壹</td>\n",
       "      <td>0.624090</td>\n",
       "    </tr>\n",
       "    <tr>\n",
       "      <th>52</th>\n",
       "      <td>Imagine Dragons</td>\n",
       "      <td>0.558701</td>\n",
       "    </tr>\n",
       "    <tr>\n",
       "      <th>54</th>\n",
       "      <td>陳奕迅 (Eason Chan)</td>\n",
       "      <td>0.577300</td>\n",
       "    </tr>\n",
       "    <tr>\n",
       "      <th>57</th>\n",
       "      <td>MATZKA樂團 (瑪斯卡樂團)</td>\n",
       "      <td>0.542840</td>\n",
       "    </tr>\n",
       "    <tr>\n",
       "      <th>...</th>\n",
       "      <td>...</td>\n",
       "      <td>...</td>\n",
       "    </tr>\n",
       "    <tr>\n",
       "      <th>39803</th>\n",
       "      <td>Dalia Ouziel</td>\n",
       "      <td>0.687500</td>\n",
       "    </tr>\n",
       "    <tr>\n",
       "      <th>39861</th>\n",
       "      <td>孩子的音樂夢森林</td>\n",
       "      <td>0.707071</td>\n",
       "    </tr>\n",
       "    <tr>\n",
       "      <th>39882</th>\n",
       "      <td>Concentration</td>\n",
       "      <td>0.531250</td>\n",
       "    </tr>\n",
       "    <tr>\n",
       "      <th>39883</th>\n",
       "      <td>Yoga &amp; Deep Sleep</td>\n",
       "      <td>0.693069</td>\n",
       "    </tr>\n",
       "    <tr>\n",
       "      <th>39898</th>\n",
       "      <td>선율(업텐션)</td>\n",
       "      <td>0.714286</td>\n",
       "    </tr>\n",
       "    <tr>\n",
       "      <th>39936</th>\n",
       "      <td>Staatskapelle Dresden</td>\n",
       "      <td>0.600000</td>\n",
       "    </tr>\n",
       "    <tr>\n",
       "      <th>39955</th>\n",
       "      <td>Rain for Deep Sleep</td>\n",
       "      <td>0.558824</td>\n",
       "    </tr>\n",
       "    <tr>\n",
       "      <th>39978</th>\n",
       "      <td>Bossa Nova Lounge Orchestra</td>\n",
       "      <td>0.904762</td>\n",
       "    </tr>\n",
       "    <tr>\n",
       "      <th>40277</th>\n",
       "      <td>Anner Bylsma &amp; Gustav Leonhardt</td>\n",
       "      <td>0.666667</td>\n",
       "    </tr>\n",
       "    <tr>\n",
       "      <th>40292</th>\n",
       "      <td>Giuseppe Sinopoli</td>\n",
       "      <td>0.952381</td>\n",
       "    </tr>\n",
       "    <tr>\n",
       "      <th>40294</th>\n",
       "      <td>lang</td>\n",
       "      <td>0.733333</td>\n",
       "    </tr>\n",
       "    <tr>\n",
       "      <th>40605</th>\n",
       "      <td>Matthew Margeson</td>\n",
       "      <td>0.880000</td>\n",
       "    </tr>\n",
       "    <tr>\n",
       "      <th>40644</th>\n",
       "      <td>New Years Eve Party</td>\n",
       "      <td>0.636364</td>\n",
       "    </tr>\n",
       "    <tr>\n",
       "      <th>40767</th>\n",
       "      <td>Yuki Numata Resnick</td>\n",
       "      <td>0.545455</td>\n",
       "    </tr>\n",
       "    <tr>\n",
       "      <th>40933</th>\n",
       "      <td>リトアニア室内管弦楽団</td>\n",
       "      <td>0.515152</td>\n",
       "    </tr>\n",
       "    <tr>\n",
       "      <th>41131</th>\n",
       "      <td>Relaxing Piano</td>\n",
       "      <td>0.528846</td>\n",
       "    </tr>\n",
       "    <tr>\n",
       "      <th>41133</th>\n",
       "      <td>劉佳銘</td>\n",
       "      <td>0.586081</td>\n",
       "    </tr>\n",
       "    <tr>\n",
       "      <th>41136</th>\n",
       "      <td>Ty Dolla Sign</td>\n",
       "      <td>0.576923</td>\n",
       "    </tr>\n",
       "    <tr>\n",
       "      <th>41157</th>\n",
       "      <td>Momo Wu)</td>\n",
       "      <td>0.545455</td>\n",
       "    </tr>\n",
       "    <tr>\n",
       "      <th>41207</th>\n",
       "      <td>&amp; Tujamo</td>\n",
       "      <td>0.520000</td>\n",
       "    </tr>\n",
       "    <tr>\n",
       "      <th>41212</th>\n",
       "      <td>and French Montana</td>\n",
       "      <td>0.547170</td>\n",
       "    </tr>\n",
       "    <tr>\n",
       "      <th>41213</th>\n",
       "      <td>SeungHee</td>\n",
       "      <td>0.586207</td>\n",
       "    </tr>\n",
       "    <tr>\n",
       "      <th>41214</th>\n",
       "      <td>Guitare Flamenco</td>\n",
       "      <td>0.638889</td>\n",
       "    </tr>\n",
       "    <tr>\n",
       "      <th>41258</th>\n",
       "      <td>Hans Vonk</td>\n",
       "      <td>0.600000</td>\n",
       "    </tr>\n",
       "    <tr>\n",
       "      <th>41376</th>\n",
       "      <td>veirs</td>\n",
       "      <td>0.733333</td>\n",
       "    </tr>\n",
       "    <tr>\n",
       "      <th>41424</th>\n",
       "      <td>Workout Fitness</td>\n",
       "      <td>0.909091</td>\n",
       "    </tr>\n",
       "    <tr>\n",
       "      <th>41432</th>\n",
       "      <td>Sleep Baby Sleep &amp; Classical Lullabies</td>\n",
       "      <td>0.765432</td>\n",
       "    </tr>\n",
       "    <tr>\n",
       "      <th>41476</th>\n",
       "      <td>Robert Tear</td>\n",
       "      <td>0.698113</td>\n",
       "    </tr>\n",
       "    <tr>\n",
       "      <th>41487</th>\n",
       "      <td>New Year 2012 Dance Party</td>\n",
       "      <td>0.636364</td>\n",
       "    </tr>\n",
       "    <tr>\n",
       "      <th>41525</th>\n",
       "      <td>Caleb Burhans</td>\n",
       "      <td>0.545455</td>\n",
       "    </tr>\n",
       "  </tbody>\n",
       "</table>\n",
       "<p>2125 rows × 2 columns</p>\n",
       "</div>"
      ],
      "text/plain": [
       "                                  artist_name      prob\n",
       "1                             Various Artists  0.509710\n",
       "6                             BIGBANG TAEYANG  0.590254\n",
       "8                                 OneRepublic  0.527190\n",
       "9                            Lindsey Stirling  0.542553\n",
       "10                                 嚴爵 (Yen-j)  0.505250\n",
       "11                               林俊傑 (JJ Lin)  0.586352\n",
       "12                             周杰倫 (Jay Chou)  0.600864\n",
       "13                              吳汶芳 (Fang Wu)  0.530609\n",
       "14                                 aMEI (張惠妹)  0.501190\n",
       "18                               五月天 (Mayday)  0.554825\n",
       "22                              Justin Bieber  0.583689\n",
       "24                          韋禮安 (William Wei)  0.539437\n",
       "25                             蛋堡 (Soft Lipa)  0.511712\n",
       "26                          楊丞琳 (Rainie Yang)  0.556688\n",
       "27                               James Arthur  0.541339\n",
       "31                              朱俐靜 (Miu Chu)  0.503749\n",
       "34                                        薛之謙  0.681267\n",
       "36                                        莊心妍  0.623732\n",
       "37                                  G.E.M.鄧紫棋  0.615534\n",
       "38                              魏如萱 (Waa Wei)  0.500030\n",
       "39                          周湯豪 (NICKTHEREAL)  0.665193\n",
       "40             兄弟本色G.U.T.S. (姚中仁、張震嶽、頑童MJ116)  0.668516\n",
       "41                              謝和弦 (R-chord)  0.638552\n",
       "42                                        EXO  0.550046\n",
       "43                              孫盛希 (Shi Shi)  0.587278\n",
       "45                          陳曉東 (Daniel Chan)  0.515094\n",
       "51                                        玖壹壹  0.624090\n",
       "52                            Imagine Dragons  0.558701\n",
       "54                           陳奕迅 (Eason Chan)  0.577300\n",
       "57                           MATZKA樂團 (瑪斯卡樂團)  0.542840\n",
       "...                                       ...       ...\n",
       "39803                            Dalia Ouziel  0.687500\n",
       "39861                                孩子的音樂夢森林  0.707071\n",
       "39882                           Concentration  0.531250\n",
       "39883                       Yoga & Deep Sleep  0.693069\n",
       "39898                                 선율(업텐션)  0.714286\n",
       "39936                   Staatskapelle Dresden  0.600000\n",
       "39955                     Rain for Deep Sleep  0.558824\n",
       "39978             Bossa Nova Lounge Orchestra  0.904762\n",
       "40277         Anner Bylsma & Gustav Leonhardt  0.666667\n",
       "40292                       Giuseppe Sinopoli  0.952381\n",
       "40294                                    lang  0.733333\n",
       "40605                        Matthew Margeson  0.880000\n",
       "40644                     New Years Eve Party  0.636364\n",
       "40767                     Yuki Numata Resnick  0.545455\n",
       "40933                             リトアニア室内管弦楽団  0.515152\n",
       "41131                          Relaxing Piano  0.528846\n",
       "41133                                     劉佳銘  0.586081\n",
       "41136                           Ty Dolla Sign  0.576923\n",
       "41157                                Momo Wu)  0.545455\n",
       "41207                                & Tujamo  0.520000\n",
       "41212                      and French Montana  0.547170\n",
       "41213                                SeungHee  0.586207\n",
       "41214                        Guitare Flamenco  0.638889\n",
       "41258                               Hans Vonk  0.600000\n",
       "41376                                   veirs  0.733333\n",
       "41424                         Workout Fitness  0.909091\n",
       "41432  Sleep Baby Sleep & Classical Lullabies  0.765432\n",
       "41476                             Robert Tear  0.698113\n",
       "41487               New Year 2012 Dance Party  0.636364\n",
       "41525                           Caleb Burhans  0.545455\n",
       "\n",
       "[2125 rows x 2 columns]"
      ]
     },
     "execution_count": 11,
     "metadata": {},
     "output_type": "execute_result"
    }
   ],
   "source": [
    "art_probability"
   ]
  },
  {
   "cell_type": "code",
   "execution_count": 12,
   "metadata": {
    "scrolled": true
   },
   "outputs": [],
   "source": [
    "df_train['artist_prob'] = df_train['artist_name'].isin(art_probability['artist_name'])\n",
    "df_test['artist_prob'] = df_test['artist_name'].isin(art_probability['artist_name'])"
   ]
  },
  {
   "cell_type": "code",
   "execution_count": 13,
   "metadata": {},
   "outputs": [],
   "source": [
    "import re\n",
    "\n",
    "def find_chinese (x):\n",
    "    if re.findall(ur'[\\u4e00-\\u9fff]+', x.decode(\"utf-8\")):\n",
    "        return True\n",
    "    else:\n",
    "        return False"
   ]
  },
  {
   "cell_type": "code",
   "execution_count": 14,
   "metadata": {},
   "outputs": [],
   "source": [
    "df_train['Chinese_artist'] = df_train['artist_name'].apply(find_chinese)\n",
    "df_test['Chinese_artist'] = df_test['artist_name'].apply(find_chinese)"
   ]
  },
  {
   "cell_type": "code",
   "execution_count": 15,
   "metadata": {
    "scrolled": true
   },
   "outputs": [],
   "source": [
    "df_train.drop(['Unnamed: 0'],axis=1,inplace=True)\n",
    "df_train.drop(['Unnamed: 0.1'],axis=1,inplace=True)\n",
    "df_test.drop(['Unnamed: 0'],axis=1,inplace=True)\n",
    "df_test.drop(['Unnamed: 0.1'],axis=1,inplace=True)"
   ]
  },
  {
   "cell_type": "code",
   "execution_count": 16,
   "metadata": {},
   "outputs": [],
   "source": [
    "df_train.drop(['count_artist_played'],axis=1,inplace=True) # don't know where it come from\n",
    "df_test.drop(['count_artist_played'],axis=1,inplace=True)"
   ]
  },
  {
   "cell_type": "code",
   "execution_count": 17,
   "metadata": {},
   "outputs": [],
   "source": [
    "df_train['gender'] =  df_train['gender'].fillna('None')\n",
    "df_test['gender'] =  df_test['gender'].fillna('None')"
   ]
  },
  {
   "cell_type": "code",
   "execution_count": 18,
   "metadata": {},
   "outputs": [],
   "source": [
    "df_train['city_age_gender'] =  (df_train['bd'] == 0) & (df_train['city'] == 1) & (df_train['gender'] == 'None')\n",
    "df_test['city_age_gender'] =  (df_test['bd'] == 0) & (df_test['city'] == 1) & (df_test['gender'] == 'None' )"
   ]
  },
  {
   "cell_type": "code",
   "execution_count": 19,
   "metadata": {
    "scrolled": true
   },
   "outputs": [
    {
     "name": "stdout",
     "output_type": "stream",
     "text": [
      "target error!\n",
      "city error!\n",
      "bd error!\n",
      "registered_via error!\n",
      "registration_year error!\n",
      "registration_month error!\n",
      "registration_day error!\n",
      "expiration_year error!\n",
      "expiration_month error!\n",
      "expiration_day error!\n",
      "song_length error!\n",
      "language error!\n",
      "song_year error!\n",
      "genre_ids_count error!\n",
      "is_featured error!\n",
      "chinese error!\n",
      "popular error!\n",
      "quant_age error!\n",
      "member_component_0 error!\n",
      "member_component_1 error!\n",
      "member_component_2 error!\n",
      "member_component_3 error!\n",
      "member_component_4 error!\n",
      "member_component_5 error!\n",
      "member_component_6 error!\n",
      "member_component_7 error!\n",
      "member_component_8 error!\n",
      "member_component_9 error!\n",
      "member_component_10 error!\n",
      "member_component_11 error!\n",
      "member_component_12 error!\n",
      "member_component_13 error!\n",
      "member_component_14 error!\n",
      "member_component_15 error!\n",
      "member_component_16 error!\n",
      "member_component_17 error!\n",
      "member_component_18 error!\n",
      "member_component_19 error!\n",
      "member_component_20 error!\n",
      "member_component_21 error!\n",
      "member_component_22 error!\n",
      "member_component_23 error!\n",
      "member_component_24 error!\n",
      "member_component_25 error!\n",
      "member_component_26 error!\n",
      "member_component_27 error!\n",
      "member_component_28 error!\n",
      "member_component_29 error!\n",
      "member_component_30 error!\n",
      "member_component_31 error!\n",
      "member_component_32 error!\n",
      "member_component_33 error!\n",
      "member_component_34 error!\n",
      "member_component_35 error!\n",
      "member_component_36 error!\n",
      "member_component_37 error!\n",
      "member_component_38 error!\n",
      "member_component_39 error!\n",
      "member_component_40 error!\n",
      "member_component_41 error!\n",
      "member_component_42 error!\n",
      "member_component_43 error!\n",
      "member_component_44 error!\n",
      "member_component_45 error!\n",
      "member_component_46 error!\n",
      "member_component_47 error!\n",
      "song_component_0 error!\n",
      "song_component_1 error!\n",
      "song_component_2 error!\n",
      "song_component_3 error!\n",
      "song_component_4 error!\n",
      "song_component_5 error!\n",
      "song_component_6 error!\n",
      "song_component_7 error!\n",
      "song_component_8 error!\n",
      "song_component_9 error!\n",
      "song_component_10 error!\n",
      "song_component_11 error!\n",
      "song_component_12 error!\n",
      "song_component_13 error!\n",
      "song_component_14 error!\n",
      "song_component_15 error!\n",
      "song_component_16 error!\n",
      "song_component_17 error!\n",
      "song_component_18 error!\n",
      "song_component_19 error!\n",
      "song_component_20 error!\n",
      "song_component_21 error!\n",
      "song_component_22 error!\n",
      "song_component_23 error!\n",
      "song_component_24 error!\n",
      "song_component_25 error!\n",
      "song_component_26 error!\n",
      "song_component_27 error!\n",
      "song_component_28 error!\n",
      "song_component_29 error!\n",
      "song_component_30 error!\n",
      "song_component_31 error!\n",
      "song_component_32 error!\n",
      "song_component_33 error!\n",
      "song_component_34 error!\n",
      "song_component_35 error!\n",
      "song_component_36 error!\n",
      "song_component_37 error!\n",
      "song_component_38 error!\n",
      "song_component_39 error!\n",
      "song_component_40 error!\n",
      "song_component_41 error!\n",
      "song_component_42 error!\n",
      "song_component_43 error!\n",
      "song_component_44 error!\n",
      "song_component_45 error!\n",
      "song_component_46 error!\n",
      "song_component_47 error!\n",
      "artist_prob error!\n",
      "Chinese_artist error!\n",
      "city_age_gender error!\n"
     ]
    }
   ],
   "source": [
    "cols_as_npint32 = [\n",
    "    'membership_days',\n",
    "    'lyricists_count',\n",
    "    'composer_count',\n",
    "    'artist_count',\n",
    "    'artist_composer',\n",
    "    'count_song_played',\n",
    "    'lyricists_1',\n",
    "    'lyricists_2',\n",
    "    'lyricists_3',\n",
    "    'artist_name_1',\n",
    "    'artist_name_2',\n",
    "    'artist_name_3',\n",
    "    'composer_1',\n",
    "    'composer_2',\n",
    "    'composer_3'\n",
    "]\n",
    "\n",
    "cols_as_npint16 = [\n",
    "    'genre_ids_count',\n",
    "    'is_featured',\n",
    "    'registered_via',                 \n",
    "    'registration_year',       \n",
    "    'registration_month',       \n",
    "    'registration_day',         \n",
    "    'expiration_year',          \n",
    "    'expiration_month',         \n",
    "    'expiration_day',\n",
    "    'popular',\n",
    "    'quant_age',\n",
    "    'city',\n",
    "]\n",
    "\n",
    "cols_as_npfloat16 = [\n",
    "    'language',\n",
    "    'song_year',\n",
    "    'bd'\n",
    "]\n",
    "\n",
    "\n",
    "for col in df_train.columns:\n",
    "    try:\n",
    "        if df_train[col].dtype == object:\n",
    "            df_train[col] = df_train[col].astype('category')\n",
    "            df_test[col] = df_test[col].astype('category')\n",
    "        elif col in cols_as_npint32:\n",
    "            df_train[col] = df_train[col].astype(np.int32)\n",
    "            df_test[col] = df_test[col].astype(np.int32)\n",
    "        elif col in cols_as_npint8:\n",
    "            df_train[col] = df_train[col].astype(np.int16)\n",
    "            df_test[col] = df_test[col].astype(np.int16)\n",
    "        elif col in cols_as_npfloat16:\n",
    "            df_train[col] = df_train[col].astype(np.float16)\n",
    "            df_test[col] = df_test[col].astype(np.float16)\n",
    "    except:\n",
    "        print col,'error!'"
   ]
  },
  {
   "cell_type": "code",
   "execution_count": 20,
   "metadata": {},
   "outputs": [],
   "source": [
    "df_train['msno_dup'] = df_train['msno'].duplicated()\n",
    "df_test['msno_dup'] = df_test['msno'].duplicated()"
   ]
  },
  {
   "cell_type": "code",
   "execution_count": 21,
   "metadata": {},
   "outputs": [],
   "source": [
    "def source_type (x):\n",
    "    if x == 'local-library' or x == 'local-playlist':\n",
    "        return True\n",
    "    else:\n",
    "        return False\n",
    "\n",
    "df_train['local_source'] = df_train['source_type'].apply(source_type)\n",
    "df_test['local_source'] = df_test['source_type'].apply(source_type)\n",
    "\n",
    "def source_screen_name (x):\n",
    "    if x == 'Local playlist more':\n",
    "        return True\n",
    "    else:\n",
    "        return False\n",
    "\n",
    "df_train['local_source_screen'] = df_train['source_screen_name'].apply(source_screen_name)\n",
    "df_test['local_source_screen'] = df_test['source_screen_name'].apply(source_screen_name)"
   ]
  },
  {
   "cell_type": "code",
   "execution_count": 22,
   "metadata": {
    "scrolled": true
   },
   "outputs": [],
   "source": [
    "#df_train.drop(['song_id'],axis=1,inplace=True)\n",
    "#df_test.drop(['song_id'],axis=1,inplace=True)"
   ]
  },
  {
   "cell_type": "code",
   "execution_count": 23,
   "metadata": {},
   "outputs": [],
   "source": [
    "#df_train['timestamp'] = np.arange(len(df_train))\n",
    "#df_test['timestamp'] = np.arange(len(df_test)) + len(df_train)"
   ]
  },
  {
   "cell_type": "code",
   "execution_count": 24,
   "metadata": {},
   "outputs": [],
   "source": [
    "## varience\n",
    "def timestamp_map(x):\n",
    "    if x < 7377418:\n",
    "        x = (x - 0.0) / (7377417.0 - 0.0) * (1484236800.0 - 1471190400.0) + 1471190400.0\n",
    "    else:\n",
    "        x = (x - 7377417.0) / (9934207.0 - 7377417.0) * (1488211200.0 - 1484236800.0) + 1484236800.0\n",
    "\n",
    "    return x"
   ]
  },
  {
   "cell_type": "code",
   "execution_count": 25,
   "metadata": {},
   "outputs": [],
   "source": [
    "#df_train['timestamp'] = df_train['timestamp'].apply(timestamp_map)\n",
    "#df_test['timestamp'] = df_test['timestamp'].apply(timestamp_map)"
   ]
  },
  {
   "cell_type": "code",
   "execution_count": 26,
   "metadata": {
    "scrolled": true
   },
   "outputs": [],
   "source": [
    "df_train_1 = df_train\n",
    "#df_train_2 = df_train.drop(['msno'],axis=1)"
   ]
  },
  {
   "cell_type": "code",
   "execution_count": 27,
   "metadata": {
    "scrolled": false
   },
   "outputs": [
    {
     "name": "stdout",
     "output_type": "stream",
     "text": [
      "<class 'pandas.core.frame.DataFrame'>\n",
      "Int64Index: 7377418 entries, 0 to 7377417\n",
      "Columns: 146 entries, msno to local_source_screen\n",
      "dtypes: bool(7), category(11), float16(96), float64(3), int32(15), int64(14)\n",
      "memory usage: 3.0 GB\n"
     ]
    }
   ],
   "source": [
    "df_train.info()"
   ]
  },
  {
   "cell_type": "code",
   "execution_count": 28,
   "metadata": {},
   "outputs": [],
   "source": [
    "#df_train.drop(['count_song_played'],axis=1,inplace=True)\n",
    "#df_test.drop(['count_song_played'],axis=1,inplace=True)"
   ]
  },
  {
   "cell_type": "code",
   "execution_count": 29,
   "metadata": {},
   "outputs": [],
   "source": [
    "#msno_check = df_train['msno'].drop_duplicates()"
   ]
  },
  {
   "cell_type": "code",
   "execution_count": 30,
   "metadata": {},
   "outputs": [],
   "source": [
    "del df_train"
   ]
  },
  {
   "cell_type": "code",
   "execution_count": 31,
   "metadata": {},
   "outputs": [],
   "source": [
    "del artist_prob\n",
    "del age_bin\n",
    "del member_svd\n",
    "del song_svd"
   ]
  },
  {
   "cell_type": "markdown",
   "metadata": {},
   "source": [
    "---"
   ]
  },
  {
   "cell_type": "markdown",
   "metadata": {},
   "source": [
    "# Train & predict"
   ]
  },
  {
   "cell_type": "markdown",
   "metadata": {},
   "source": [
    "### train/test sets"
   ]
  },
  {
   "cell_type": "code",
   "execution_count": 32,
   "metadata": {
    "scrolled": true
   },
   "outputs": [],
   "source": [
    "X_train_1 = df_train_1.drop(['target'], axis=1)\n",
    "Y_train_1 = df_train_1['target'].values\n",
    "\n",
    "X_test = df_test.drop(['id'], axis=1)\n",
    "ids = df_test['id'].values\n",
    "\n",
    "\n",
    "\n",
    "d_train_final_1 = lgb.Dataset(X_train_1, Y_train_1)\n",
    "watchlist_final_1 = lgb.Dataset(X_train_1, Y_train_1)\n",
    "#watchlist_final_1 = lgb.Dataset(X_train_val[vali_length:], y_train_val[vali_length:])"
   ]
  },
  {
   "cell_type": "code",
   "execution_count": 33,
   "metadata": {},
   "outputs": [],
   "source": [
    "del df_train_1"
   ]
  },
  {
   "cell_type": "markdown",
   "metadata": {},
   "source": [
    "### Model 1"
   ]
  },
  {
   "cell_type": "code",
   "execution_count": 34,
   "metadata": {
    "scrolled": true
   },
   "outputs": [
    {
     "name": "stderr",
     "output_type": "stream",
     "text": [
      "/usr/local/lib/python2.7/dist-packages/lightgbm/engine.py:98: UserWarning: Found `num_rounds` in params. Will use it instead of argument\n",
      "  warnings.warn(\"Found `{}` in params. Will use it instead of argument\".format(alias))\n"
     ]
    },
    {
     "name": "stdout",
     "output_type": "stream",
     "text": [
      "[5]\tvalid_0's auc: 0.75789\n",
      "[10]\tvalid_0's auc: 0.780771\n",
      "[15]\tvalid_0's auc: 0.794585\n",
      "[20]\tvalid_0's auc: 0.803608\n",
      "[25]\tvalid_0's auc: 0.81112\n",
      "[30]\tvalid_0's auc: 0.815642\n",
      "[35]\tvalid_0's auc: 0.82017\n",
      "[40]\tvalid_0's auc: 0.823275\n",
      "[45]\tvalid_0's auc: 0.826572\n",
      "[50]\tvalid_0's auc: 0.829239\n",
      "[55]\tvalid_0's auc: 0.831529\n",
      "[60]\tvalid_0's auc: 0.833449\n",
      "[65]\tvalid_0's auc: 0.835719\n",
      "[70]\tvalid_0's auc: 0.838234\n",
      "[75]\tvalid_0's auc: 0.840022\n",
      "[80]\tvalid_0's auc: 0.84156\n",
      "[85]\tvalid_0's auc: 0.843178\n",
      "[90]\tvalid_0's auc: 0.84437\n",
      "[95]\tvalid_0's auc: 0.845629\n",
      "[100]\tvalid_0's auc: 0.846415\n",
      "[105]\tvalid_0's auc: 0.847797\n",
      "[110]\tvalid_0's auc: 0.849136\n",
      "[115]\tvalid_0's auc: 0.850244\n",
      "[120]\tvalid_0's auc: 0.851862\n",
      "[125]\tvalid_0's auc: 0.853242\n",
      "[130]\tvalid_0's auc: 0.854632\n",
      "[135]\tvalid_0's auc: 0.855732\n",
      "[140]\tvalid_0's auc: 0.856985\n",
      "[145]\tvalid_0's auc: 0.858409\n",
      "[150]\tvalid_0's auc: 0.859584\n",
      "[155]\tvalid_0's auc: 0.860283\n",
      "[160]\tvalid_0's auc: 0.861346\n",
      "[165]\tvalid_0's auc: 0.862516\n",
      "[170]\tvalid_0's auc: 0.863795\n",
      "[175]\tvalid_0's auc: 0.864441\n",
      "[180]\tvalid_0's auc: 0.865218\n",
      "[185]\tvalid_0's auc: 0.865813\n",
      "[190]\tvalid_0's auc: 0.866324\n",
      "[195]\tvalid_0's auc: 0.867162\n",
      "[200]\tvalid_0's auc: 0.867924\n"
     ]
    }
   ],
   "source": [
    "params = {\n",
    "    'objective': 'binary',\n",
    "    'metric': 'binary_logloss',\n",
    "    'boosting': 'gbdt',\n",
    "    'learning_rate': 0.3 ,\n",
    "    'verbose': 0,\n",
    "    'num_leaves': 128,\n",
    "    'bagging_fraction': 0.95,\n",
    "    'bagging_freq': 1,\n",
    "    'bagging_seed': 1,\n",
    "    'feature_fraction': 0.9,\n",
    "    'feature_fraction_seed': 1,\n",
    "    'max_bin': 256,\n",
    "    'max_depth': -1,\n",
    "    'num_rounds': 200,\n",
    "    'metric' : 'auc'\n",
    "}\n",
    "\n",
    "model_f1 = lgb.train(params, train_set=d_train_final_1,\n",
    "                     valid_sets=watchlist_final_1, verbose_eval=5)"
   ]
  },
  {
   "cell_type": "markdown",
   "metadata": {},
   "source": [
    "### Model 1-2"
   ]
  },
  {
   "cell_type": "code",
   "execution_count": 35,
   "metadata": {
    "scrolled": true
   },
   "outputs": [
    {
     "name": "stdout",
     "output_type": "stream",
     "text": [
      "[5]\tvalid_0's auc: 0.75789\n",
      "[10]\tvalid_0's auc: 0.775139\n",
      "[15]\tvalid_0's auc: 0.788589\n",
      "[20]\tvalid_0's auc: 0.799102\n",
      "[25]\tvalid_0's auc: 0.806366\n",
      "[30]\tvalid_0's auc: 0.810755\n",
      "[35]\tvalid_0's auc: 0.814132\n",
      "[40]\tvalid_0's auc: 0.818404\n",
      "[45]\tvalid_0's auc: 0.820198\n",
      "[50]\tvalid_0's auc: 0.821302\n",
      "[55]\tvalid_0's auc: 0.824328\n",
      "[60]\tvalid_0's auc: 0.825945\n",
      "[65]\tvalid_0's auc: 0.826951\n",
      "[70]\tvalid_0's auc: 0.827681\n",
      "[75]\tvalid_0's auc: 0.828908\n",
      "[80]\tvalid_0's auc: 0.829681\n",
      "[85]\tvalid_0's auc: 0.829639\n",
      "[90]\tvalid_0's auc: 0.830253\n",
      "[95]\tvalid_0's auc: 0.830963\n",
      "[100]\tvalid_0's auc: 0.832671\n",
      "[105]\tvalid_0's auc: 0.833016\n",
      "[110]\tvalid_0's auc: 0.832735\n",
      "[115]\tvalid_0's auc: 0.83494\n",
      "[120]\tvalid_0's auc: 0.835692\n",
      "[125]\tvalid_0's auc: 0.836338\n",
      "[130]\tvalid_0's auc: 0.837367\n",
      "[135]\tvalid_0's auc: 0.838498\n",
      "[140]\tvalid_0's auc: 0.838927\n",
      "[145]\tvalid_0's auc: 0.839272\n",
      "[150]\tvalid_0's auc: 0.839794\n",
      "[155]\tvalid_0's auc: 0.840307\n",
      "[160]\tvalid_0's auc: 0.839576\n",
      "[165]\tvalid_0's auc: 0.840666\n",
      "[170]\tvalid_0's auc: 0.843032\n",
      "[175]\tvalid_0's auc: 0.84449\n",
      "[180]\tvalid_0's auc: 0.844516\n",
      "[185]\tvalid_0's auc: 0.846037\n",
      "[190]\tvalid_0's auc: 0.84678\n",
      "[195]\tvalid_0's auc: 0.847471\n",
      "[200]\tvalid_0's auc: 0.847674\n"
     ]
    }
   ],
   "source": [
    "params = {\n",
    "    'objective': 'binary',\n",
    "    'metric': 'binary_logloss',\n",
    "    'boosting': 'dart',\n",
    "    'learning_rate': 0.3 ,\n",
    "    'verbose': 0,\n",
    "    'num_leaves': 128,\n",
    "    'bagging_fraction': 0.95,\n",
    "    'bagging_freq': 1,\n",
    "    'bagging_seed': 1,\n",
    "    'feature_fraction': 0.9,\n",
    "    'feature_fraction_seed': 1,\n",
    "    'max_bin': 256,\n",
    "    'max_depth': -1,\n",
    "    'num_rounds': 200,\n",
    "    'metric' : 'auc'\n",
    "}\n",
    "\n",
    "model_f1_2 = lgb.train(params, train_set=d_train_final_1,\n",
    "                     valid_sets=watchlist_final_1, verbose_eval=5)"
   ]
  },
  {
   "cell_type": "code",
   "execution_count": null,
   "metadata": {
    "scrolled": true
   },
   "outputs": [],
   "source": [
    "X_train_2 = df_train_2.drop(['target'], axis=1)\n",
    "Y_train_2 = df_train_2['target'].values\n",
    "\n",
    "d_train_final_2 = lgb.Dataset(X_train_2, Y_train_2)\n",
    "watchlist_final_2 = lgb.Dataset(X_train_2, Y_train_2)\n",
    "#watchlist_final_2 = lgb.Dataset(X_train_val[vali_length:], y_train_val[vali_length:])"
   ]
  },
  {
   "cell_type": "code",
   "execution_count": null,
   "metadata": {},
   "outputs": [],
   "source": [
    "del df_train_2"
   ]
  },
  {
   "cell_type": "markdown",
   "metadata": {},
   "source": [
    "### Model 2"
   ]
  },
  {
   "cell_type": "code",
   "execution_count": null,
   "metadata": {
    "scrolled": true
   },
   "outputs": [],
   "source": [
    "params = {\n",
    "    'objective': 'binary',\n",
    "    'metric': 'binary_logloss',\n",
    "    'boosting': 'gbdt',\n",
    "    'learning_rate': 0.3 ,\n",
    "    'verbose': 0,\n",
    "    'num_leaves': 128,\n",
    "    'bagging_fraction': 0.95,\n",
    "    'bagging_freq': 1,\n",
    "    'bagging_seed': 1,\n",
    "    'feature_fraction': 0.9,\n",
    "    'feature_fraction_seed': 1,\n",
    "    'max_bin': 256,\n",
    "    'max_depth': -1,\n",
    "    'num_rounds': 200,\n",
    "    'metric' : 'auc'\n",
    "}\n",
    "\n",
    "model_f2 = lgb.train(params, train_set=d_train_final_2,\n",
    "                     valid_sets=watchlist_final_2, verbose_eval=5)"
   ]
  },
  {
   "cell_type": "code",
   "execution_count": null,
   "metadata": {
    "scrolled": true
   },
   "outputs": [],
   "source": [
    "params = {\n",
    "    'objective': 'binary',\n",
    "    'metric': 'binary_logloss',\n",
    "    'boosting': 'dart',\n",
    "    'learning_rate': 0.3 ,\n",
    "    'verbose': 0,\n",
    "    'num_leaves': 128,\n",
    "    'bagging_fraction': 0.95,\n",
    "    'bagging_freq': 1,\n",
    "    'bagging_seed': 1,\n",
    "    'feature_fraction': 0.9,\n",
    "    'feature_fraction_seed': 1,\n",
    "    'max_bin': 256,\n",
    "    'max_depth': -1,\n",
    "    'num_rounds': 200,\n",
    "    'metric' : 'auc'\n",
    "}\n",
    "\n",
    "model_f2_2 = lgb.train(params, train_set=d_train_final_2,\n",
    "                     valid_sets=watchlist_final_2, verbose_eval=5)"
   ]
  },
  {
   "cell_type": "code",
   "execution_count": null,
   "metadata": {},
   "outputs": [],
   "source": []
  },
  {
   "cell_type": "code",
   "execution_count": null,
   "metadata": {},
   "outputs": [],
   "source": [
    "df_test['check'] = df_test['msno'].isin(msno_check)"
   ]
  },
  {
   "cell_type": "code",
   "execution_count": null,
   "metadata": {
    "scrolled": true
   },
   "outputs": [],
   "source": [
    "X_test['name'] = X_test['name'].astype('category')"
   ]
  },
  {
   "cell_type": "markdown",
   "metadata": {},
   "source": [
    "### Make predictions"
   ]
  },
  {
   "cell_type": "code",
   "execution_count": 36,
   "metadata": {
    "scrolled": true
   },
   "outputs": [],
   "source": [
    "X_test = df_test.drop(['id'], axis=1)\n",
    "ids = df_test['id'].values\n",
    "\n",
    "p_test_1 = model_f1.predict(X_test)\n",
    "p_test_1_2 = model_f1_2.predict(X_test)\n",
    "#p_test_2 = model_f2.predict(X_test[X_test['check'] != True].drop(['check','msno'], axis=1))\n",
    "#p_test_2_2 = model_f2_2.predict(X_test[X_test['check'] != True].drop(['check','msno'], axis=1))\n",
    "p_test_avg_1 = np.mean([p_test_1, p_test_1_2], axis = 0)\n",
    "#p_test_avg_2 = np.mean([p_test_2, p_test_2_2], axis = 0)"
   ]
  },
  {
   "cell_type": "code",
   "execution_count": null,
   "metadata": {},
   "outputs": [],
   "source": [
    "#p_test_1 = model_f1.predict(X_test[X_test['check'] == True].drop(['check'], axis=1))\n",
    "#p_test_2 = model_f2.predict(X_test[X_test['check'] != True].drop(['check','msno'], axis=1))\n",
    "#p_test_avg_1 = np.mean([p_test_1, p_test_1_2], axis = 0)\n",
    "#p_test_avg_2 = np.mean([p_test_2, p_test_2_2], axis = 0)"
   ]
  },
  {
   "cell_type": "markdown",
   "metadata": {},
   "source": [
    "### Save to submission.csv"
   ]
  },
  {
   "cell_type": "code",
   "execution_count": 39,
   "metadata": {
    "scrolled": true
   },
   "outputs": [
    {
     "name": "stdout",
     "output_type": "stream",
     "text": [
      "saved as submission_20171228-202310.csv\n"
     ]
    }
   ],
   "source": [
    "cur_time = datetime.datetime.now().strftime('%Y%m%d-%H%M%S')\n",
    "file_name = 'submission_' + cur_time + '.csv'\n",
    "\n",
    "subm = pd.DataFrame()\n",
    "#ids = np.append(df_test[df_test['check'] == True]['id'].values, df_test[df_test['check'] != True]['id'].values)\n",
    "#p_test_avg = np.append(p_test_1_2, p_test_2_2)\n",
    "#p_test_avg = np.append(p_test_avg_1, p_test_avg_2)\n",
    "subm['id'] = ids\n",
    "subm['target'] = p_test_avg_1\n",
    "#subm['target'] = subm['target'].apply(alignment)\n",
    "subm.to_csv(file_name, index=False, float_format = '%.5f')\n",
    "print('saved as '+ file_name)"
   ]
  }
 ],
 "metadata": {
  "kernelspec": {
   "display_name": "Python 2",
   "language": "python",
   "name": "python2"
  },
  "language_info": {
   "codemirror_mode": {
    "name": "ipython",
    "version": 2
   },
   "file_extension": ".py",
   "mimetype": "text/x-python",
   "name": "python",
   "nbconvert_exporter": "python",
   "pygments_lexer": "ipython2",
   "version": "2.7.14"
  }
 },
 "nbformat": 4,
 "nbformat_minor": 2
}
